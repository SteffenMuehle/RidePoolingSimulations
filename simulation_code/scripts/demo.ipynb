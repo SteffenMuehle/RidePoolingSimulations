{
 "cells": [
  {
   "cell_type": "markdown",
   "metadata": {},
   "source": [
    "activate local environment. It resembles the packages required by the RidePooling.jl environent."
   ]
  },
  {
   "cell_type": "code",
   "execution_count": null,
   "metadata": {},
   "outputs": [],
   "source": [
    "using Pkg\n",
    "rpfolder=\"../\"\n",
    "Pkg.activate(rpfolder)"
   ]
  },
  {
   "cell_type": "markdown",
   "metadata": {},
   "source": [
    "do this if packages have not been downloaded to your machine yet"
   ]
  },
  {
   "cell_type": "code",
   "execution_count": null,
   "metadata": {},
   "outputs": [],
   "source": [
    "Pkg.instantiate()"
   ]
  },
  {
   "cell_type": "markdown",
   "metadata": {},
   "source": [
    "load RidePooling.jl"
   ]
  },
  {
   "cell_type": "code",
   "execution_count": null,
   "metadata": {},
   "outputs": [],
   "source": [
    "include(rpfolder*\"src/RidePooling.jl\")\n",
    "RP=RidePooling"
   ]
  },
  {
   "cell_type": "markdown",
   "metadata": {},
   "source": [
    "choose map (in this project)"
   ]
  },
  {
   "cell_type": "code",
   "execution_count": null,
   "metadata": {},
   "outputs": [],
   "source": [
    "include(\"../maps/stargrid_32_32/map.jl\")\n",
    "#include(\"../maps/stargrid_64_16/map.jl\")\n",
    "#include(\"../maps/stargrid_128_8/map.jl\")\n",
    "#include(\"../maps/htree4/map.jl\")\n",
    "#include(\"../maps/broitzem/map.jl\")\n",
    "#include(\"../maps/goettingen/map.jl\")"
   ]
  },
  {
   "cell_type": "markdown",
   "metadata": {},
   "source": [
    "choose frequency and fleet size"
   ]
  },
  {
   "cell_type": "code",
   "execution_count": null,
   "metadata": {},
   "outputs": [],
   "source": [
    "x=5\n",
    "\n",
    "N=5;"
   ]
  },
  {
   "cell_type": "markdown",
   "metadata": {},
   "source": [
    "initiate model struct"
   ]
  },
  {
   "cell_type": "code",
   "execution_count": null,
   "metadata": {},
   "outputs": [],
   "source": [
    "max_waiting_time=t0     #<--- user constraint: time between submission and pickup\n",
    "max_relative_detour=1.0 #<--- user constraint: δ_max= 1+max_relative_detour = 2.0\n",
    "\n",
    "model=RP.get_model(\n",
    "    ν=x/(t0/2),\n",
    "    N_bus=N,\n",
    "    map=map,\n",
    "    route_matrix=RM,\n",
    "    subspaces=:all_edges,\n",
    "    routing=:lookup,\n",
    "    speed_dict=speed_dict,\n",
    "\n",
    "    cost=:trajectory_length,  #<--- other options are :delays and :random\n",
    "    rejection_criterion=((:any_waiting_time,max_waiting_time/2),(:any_relative_detour,max_relative_detour)),\n",
    "\n",
    "    seed=1,\n",
    "    );"
   ]
  },
  {
   "cell_type": "markdown",
   "metadata": {},
   "source": [
    "run simulation (find more syntax in RidePooling/src/functions/top_level.jl)"
   ]
  },
  {
   "cell_type": "code",
   "execution_count": null,
   "metadata": {},
   "outputs": [],
   "source": [
    "RP.run!(model,dropped=10)  #<--- run simulation until 10 users have been dropped off"
   ]
  },
  {
   "cell_type": "markdown",
   "metadata": {},
   "source": [
    "report model status"
   ]
  },
  {
   "cell_type": "code",
   "execution_count": null,
   "metadata": {},
   "outputs": [],
   "source": [
    "RP.report(model)  #<--- table with information about user and bus status "
   ]
  },
  {
   "cell_type": "markdown",
   "metadata": {},
   "source": [
    "evaluate observables (find more syntax in RidePooling/src/functions/evaluation.jl)"
   ]
  },
  {
   "cell_type": "code",
   "execution_count": null,
   "metadata": {},
   "outputs": [],
   "source": [
    "#served percentage of incoming requests\n",
    "RP.served_percentage(model)"
   ]
  },
  {
   "cell_type": "code",
   "execution_count": null,
   "metadata": {},
   "outputs": [],
   "source": [
    "#detour factor (system average, user average)\n",
    "RP.delta(model)"
   ]
  },
  {
   "cell_type": "code",
   "execution_count": null,
   "metadata": {},
   "outputs": [],
   "source": [
    "#efficiency\n",
    "RP.requested_distance(model)/RP.driven_distance(model)"
   ]
  },
  {
   "cell_type": "code",
   "execution_count": null,
   "metadata": {},
   "outputs": [],
   "source": [
    "#percentage of time that buses are driving\n",
    "RP.p_busy(model)"
   ]
  },
  {
   "cell_type": "code",
   "execution_count": null,
   "metadata": {},
   "outputs": [],
   "source": [
    "#user-averaged waiting time fro, submission to pickup\n",
    "RP.mean_waiting_time(model)/(max_waiting_time/2)"
   ]
  },
  {
   "cell_type": "code",
   "execution_count": null,
   "metadata": {},
   "outputs": [],
   "source": [
    "#bus occupancy: b_star_timeaverage, b_star_distanceaverage, b_timeaverage, b_distanceaverage. star means only considering time when bus is occupied.\n",
    "RP.mean_occupancy(model)"
   ]
  }
 ],
 "metadata": {
  "kernelspec": {
   "display_name": "Julia 1.6.2",
   "language": "julia",
   "name": "julia-1.6"
  },
  "language_info": {
   "file_extension": ".jl",
   "mimetype": "application/julia",
   "name": "julia",
   "version": "1.6.2"
  },
  "orig_nbformat": 4
 },
 "nbformat": 4,
 "nbformat_minor": 2
}
